{
 "cells": [
  {
   "cell_type": "markdown",
   "metadata": {},
   "source": [
    "# Introduction\n",
    "\n",
    "This notebook is supplementary material to Stocker et al. \"Towards research infrastructures that curate scientific information: A use case in life sciences\" originally submitted to the [13th International Conference on Data Integration in the Life Sciences](https://events.tib.eu/dils2018/) (DILS 2018), November 20-21, Hannover, Germany.\n",
    "\n",
    "The notebook reproduces and proposes an alternative (and complementary) representation of a result published by [Haddad et al. (2017)](https://doi.org/10.1093/eurheartj/ehw333). Specifically, we reproduce the statistical hypothesis test underlying the statement \"IRE binding activity was significantly reduced in failing hearts\" using the data shown in Figure 1B (p. 364). \n",
    "\n",
    "In contrast to the conventional representation of a p-value, a plot and a natural language statement, we demonstrate how this results can be represented as a machine readable description for the statistical hypothesis test, specifically a two sample t-test with unequal variance with two continuous variables (and their corresponding values), the study design dependent variable, and the p-value.\n",
    "\n",
    "Finally, we demonstrate how the machine readable description for the statistical hypothesis test can be linked to the corresponding natural language sentence in the article by Haddad et al., thus linking the result with article metadata, e.g. author ORCID iD or article DOI."
   ]
  },
  {
   "cell_type": "code",
   "execution_count": 1,
   "metadata": {},
   "outputs": [],
   "source": [
    "import io\n",
    "import re\n",
    "import requests\n",
    "import numpy as np\n",
    "import pandas as pd\n",
    "from  urllib.parse import quote\n",
    "from scipy.stats import ttest_ind\n",
    "from pyRdfa import pyRdfa\n",
    "from rdflib import Graph, URIRef, BNode, Literal\n",
    "from rdflib.namespace import RDF, XSD, RDFS\n",
    "from rdflib.plugins.sparql.results.csvresults import CSVResultSerializer"
   ]
  },
  {
   "cell_type": "code",
   "execution_count": 2,
   "metadata": {},
   "outputs": [],
   "source": [
    "obo = dict()\n",
    "\n",
    "obo['STATO_0000304'] = URIRef('http://purl.obolibrary.org/obo/STATO_0000304')\n",
    "obo['OBI_0000299'] = URIRef('http://purl.obolibrary.org/obo/OBI_0000299')\n",
    "obo['OBI_0000175'] = URIRef('http://purl.obolibrary.org/obo/OBI_0000175')\n",
    "obo['OBI_0000293'] = URIRef('http://purl.obolibrary.org/obo/OBI_0000293')\n",
    "obo['STATO_0000251'] = URIRef('http://purl.obolibrary.org/obo/STATO_0000251')\n",
    "obo['BFO_0000051'] = URIRef('http://purl.obolibrary.org/obo/BFO_0000051')\n",
    "obo['IAO_0000032'] = URIRef('http://purl.obolibrary.org/obo/IAO_0000032')\n",
    "obo['OBI_0001938'] = URIRef('http://purl.obolibrary.org/obo/OBI_0001938')\n",
    "obo['OBI_0001933'] = URIRef('http://purl.obolibrary.org/obo/OBI_0001933')\n",
    "obo['OBI_0001931'] = URIRef('http://purl.obolibrary.org/obo/OBI_0001931')\n",
    "obo['OBI_0002135'] = URIRef('http://purl.obolibrary.org/obo/OBI_0002135')\n",
    "obo['OBI_0001937'] = URIRef('http://purl.obolibrary.org/obo/OBI_0001937')\n",
    "obo['OBI_0000751'] = URIRef('http://purl.obolibrary.org/obo/OBI_0000751')\n",
    "obo['STATO_0000205'] = URIRef('http://purl.obolibrary.org/obo/STATO_0000205')\n",
    "obo['STATO_0000019'] = URIRef('http://purl.obolibrary.org/obo/STATO_0000019')\n",
    "obo['STATO_0000129'] = URIRef('http://purl.obolibrary.org/obo/STATO_0000129')\n",
    "obo['GO_0030350'] = URIRef('http://purl.obolibrary.org/obo/GO_0030350')\n",
    "obo['NCIT_C50577'] = URIRef('http://purl.obolibrary.org/obo/NCIT_C50577')\n",
    "obo['NCIT_C25168'] = URIRef('http://purl.obolibrary.org/obo/NCIT_C25168')\n",
    "\n",
    "def create_ttest_description(df, tt):\n",
    "    g = Graph()\n",
    "\n",
    "    g.bind('obo', 'http://purl.obolibrary.org/obo/')\n",
    "    g.bind('ex', 'http://example.org/')\n",
    "\n",
    "    n1 = URIRef('https://doi.org/10.1093/eurheartj/ehw333-R1')\n",
    "    n2 = BNode()\n",
    "    n3 = BNode()\n",
    "    n4 = BNode()\n",
    "    n5 = BNode()\n",
    "    n6 = BNode()\n",
    "    \n",
    "    g.add((obo['STATO_0000304'], RDFS.label, Literal('two sample t-test with unequal variance')))\n",
    "    g.add((obo['OBI_0000299'], RDFS.label, Literal('has specified output')))\n",
    "    g.add((obo['OBI_0000293'], RDFS.label, Literal('has specified input')))\n",
    "    g.add((obo['OBI_0000175'], RDFS.label, Literal('p-value')))\n",
    "    g.add((obo['OBI_0001938'], RDFS.label, Literal('has value specification')))\n",
    "    g.add((obo['OBI_0001931'], RDFS.label, Literal('scalar value specification')))\n",
    "    g.add((obo['OBI_0001937'], RDFS.label, Literal('has specified numeric value')))\n",
    "    g.add((obo['OBI_0000751'], RDFS.label, Literal('study design dependent variable')))\n",
    "    g.add((obo['OBI_0001933'], RDFS.label, Literal('value specification')))\n",
    "    g.add((obo['OBI_0002135'], RDFS.label, Literal('has specified value')))\n",
    "    g.add((obo['GO_0030350'], RDFS.label, Literal('iron-responsive element binding')))\n",
    "    g.add((obo['STATO_0000251'], RDFS.label, Literal('continuous variable')))\n",
    "    g.add((obo['BFO_0000051'], RDFS.label, Literal('has part')))\n",
    "    g.add((obo['IAO_0000032'], RDFS.label, Literal('scalar measurement datum')))\n",
    "    g.add((obo['STATO_0000129'], RDFS.label, Literal('has value')))\n",
    "    g.add((obo['STATO_0000019'], RDFS.label, Literal('normal distribution hypothesis')))\n",
    "    g.add((obo['STATO_0000205'], RDFS.label, Literal('is denoted by')))\n",
    "    g.add((obo['NCIT_C50577'], RDFS.label, Literal('heart failure')))\n",
    "    g.add((obo['NCIT_C25168'], RDFS.label, Literal('tissue donor')))\n",
    "\n",
    "    g.add((n1, RDF.type, obo['STATO_0000304']))\n",
    "    g.add((n1, obo['OBI_0000299'], n2))\n",
    "    g.add((n2, RDF.type, obo['OBI_0000175']))\n",
    "    g.add((n2, obo['OBI_0001938'], n3))\n",
    "    g.add((n3, RDF.type, obo['OBI_0001931']))\n",
    "    g.add((n3, obo['OBI_0001937'], Literal(tt.pvalue, datatype=XSD.double)))\n",
    "    g.add((n1, obo['OBI_0000293'], n4))\n",
    "    g.add((n4, RDF.type, obo['OBI_0000751']))\n",
    "    g.add((n4, RDF.type, obo['GO_0030350']))\n",
    "    \n",
    "    for c in list(df):\n",
    "        b1 = BNode()\n",
    "        g.add((n1, obo['OBI_0000293'], b1))\n",
    "        g.add((b1, RDF.type, obo['STATO_0000251']))\n",
    "        for v in df[c]:\n",
    "            if np.isnan(v): \n",
    "                continue\n",
    "            b2 = BNode()\n",
    "            b3 = BNode()\n",
    "            g.add((b1, RDFS.label, Literal(c)))\n",
    "            g.add((b1, obo['BFO_0000051'], b2))\n",
    "            g.add((b2, RDF.type, obo['IAO_0000032']))\n",
    "            g.add((b2, obo['OBI_0001938'], b3))\n",
    "            g.add((b3, RDF.type, obo['OBI_0001931']))\n",
    "            g.add((b3, obo['OBI_0001937'], Literal(str(v), datatype=XSD.double)))\n",
    "\n",
    "    return g\n",
    "\n",
    "def query(g, q):\n",
    "    serializer = CSVResultSerializer(g.query(q))\n",
    "    output = io.BytesIO()\n",
    "    serializer.serialize(output)\n",
    "    return pd.read_csv(io.StringIO(output.getvalue().decode('utf-8')))"
   ]
  },
  {
   "cell_type": "markdown",
   "metadata": {},
   "source": [
    "## Data Analysis\n",
    "\n",
    "We first perform the statistical hypothesis test. This is a step of the data analysis phase of the research lifecycle. The conventional and the proposed approaches largely share this step, the main difference being that in the conventional approach researchers use [Prism](https://www.graphpad.com/scientific-software/prism/) rather than Jupyter. We obtain the p-value."
   ]
  },
  {
   "cell_type": "code",
   "execution_count": 3,
   "metadata": {},
   "outputs": [
    {
     "data": {
      "text/plain": [
       "1.3111247517411591e-08"
      ]
     },
     "execution_count": 3,
     "metadata": {},
     "output_type": "execute_result"
    }
   ],
   "source": [
    "labels = ['non-failing heart (NF)', 'failing heart (F)']\n",
    "data = [(99, 52), (96, 40), (100, 38), (105, 18), \n",
    "        (np.nan, 11), (np.nan, 5), (np.nan, 42), \n",
    "        (np.nan, 55), (np.nan, 53), (np.nan, 39),\n",
    "        (np.nan, 42), (np.nan, 50)]\n",
    "\n",
    "df = pd.DataFrame.from_records(data, columns=labels)\n",
    "tt = ttest_ind(df['non-failing heart (NF)'], \n",
    "               df['failing heart (F)'], \n",
    "               equal_var=False, nan_policy='omit')\n",
    "\n",
    "tt.pvalue"
   ]
  },
  {
   "cell_type": "markdown",
   "metadata": {},
   "source": [
    "Here is where the proposed approach diverges from the conventional one. We suggest to use the [STATO](http://stato-ontology.org/) general purpose statistics ontology, the [Ontology for Biomedical Investigations](http://obi-ontology.org/) (OBI), the [Information Artifact Ontology](http://www.obofoundry.org/ontology/iao.html) (IAO), and the [Gene Ontology](http://www.geneontology.org/) (GO) (among others) to create a machine readable description of the statistical hypothesis test."
   ]
  },
  {
   "cell_type": "code",
   "execution_count": 4,
   "metadata": {},
   "outputs": [],
   "source": [
    "g = create_ttest_description(df, tt)"
   ]
  },
  {
   "cell_type": "markdown",
   "metadata": {},
   "source": [
    "We can look at the resulting machine readable description, which is an RDF graph."
   ]
  },
  {
   "cell_type": "code",
   "execution_count": 5,
   "metadata": {},
   "outputs": [
    {
     "name": "stdout",
     "output_type": "stream",
     "text": [
      "@prefix ex: <http://example.org/> .\n",
      "@prefix obo: <http://purl.obolibrary.org/obo/> .\n",
      "@prefix rdf: <http://www.w3.org/1999/02/22-rdf-syntax-ns#> .\n",
      "@prefix rdfs: <http://www.w3.org/2000/01/rdf-schema#> .\n",
      "@prefix xml: <http://www.w3.org/XML/1998/namespace> .\n",
      "@prefix xsd: <http://www.w3.org/2001/XMLSchema#> .\n",
      "\n",
      "obo:BFO_0000051 rdfs:label \"has part\" .\n",
      "\n",
      "obo:NCIT_C25168 rdfs:label \"tissue donor\" .\n",
      "\n",
      "obo:NCIT_C50577 rdfs:label \"heart failure\" .\n",
      "\n",
      "obo:OBI_0000293 rdfs:label \"has specified input\" .\n",
      "\n",
      "obo:OBI_0000299 rdfs:label \"has specified output\" .\n",
      "\n",
      "obo:OBI_0001933 rdfs:label \"value specification\" .\n",
      "\n",
      "obo:OBI_0001937 rdfs:label \"has specified numeric value\" .\n",
      "\n",
      "obo:OBI_0001938 rdfs:label \"has value specification\" .\n",
      "\n",
      "obo:OBI_0002135 rdfs:label \"has specified value\" .\n",
      "\n",
      "obo:STATO_0000019 rdfs:label \"normal distribution hypothesis\" .\n",
      "\n",
      "obo:STATO_0000129 rdfs:label \"has value\" .\n",
      "\n",
      "obo:STATO_0000205 rdfs:label \"is denoted by\" .\n",
      "\n",
      "<https://doi.org/10.1093/eurheartj/ehw333-R1> a obo:STATO_0000304 ;\n",
      "    obo:OBI_0000293 [ a obo:STATO_0000251 ;\n",
      "            rdfs:label \"non-failing heart (NF)\" ;\n",
      "            obo:BFO_0000051 [ a obo:IAO_0000032 ;\n",
      "                    obo:OBI_0001938 [ a obo:OBI_0001931 ;\n",
      "                            obo:OBI_0001937 1e+02 ] ],\n",
      "                [ a obo:IAO_0000032 ;\n",
      "                    obo:OBI_0001938 [ a obo:OBI_0001931 ;\n",
      "                            obo:OBI_0001937 9.9e+01 ] ],\n",
      "                [ a obo:IAO_0000032 ;\n",
      "                    obo:OBI_0001938 [ a obo:OBI_0001931 ;\n",
      "                            obo:OBI_0001937 1.05e+02 ] ],\n",
      "                [ a obo:IAO_0000032 ;\n",
      "                    obo:OBI_0001938 [ a obo:OBI_0001931 ;\n",
      "                            obo:OBI_0001937 9.6e+01 ] ] ],\n",
      "        [ a obo:GO_0030350,\n",
      "                obo:OBI_0000751 ],\n",
      "        [ a obo:STATO_0000251 ;\n",
      "            rdfs:label \"failing heart (F)\" ;\n",
      "            obo:BFO_0000051 [ a obo:IAO_0000032 ;\n",
      "                    obo:OBI_0001938 [ a obo:OBI_0001931 ;\n",
      "                            obo:OBI_0001937 5.3e+01 ] ],\n",
      "                [ a obo:IAO_0000032 ;\n",
      "                    obo:OBI_0001938 [ a obo:OBI_0001931 ;\n",
      "                            obo:OBI_0001937 1.1e+01 ] ],\n",
      "                [ a obo:IAO_0000032 ;\n",
      "                    obo:OBI_0001938 [ a obo:OBI_0001931 ;\n",
      "                            obo:OBI_0001937 5e+00 ] ],\n",
      "                [ a obo:IAO_0000032 ;\n",
      "                    obo:OBI_0001938 [ a obo:OBI_0001931 ;\n",
      "                            obo:OBI_0001937 3.9e+01 ] ],\n",
      "                [ a obo:IAO_0000032 ;\n",
      "                    obo:OBI_0001938 [ a obo:OBI_0001931 ;\n",
      "                            obo:OBI_0001937 5.2e+01 ] ],\n",
      "                [ a obo:IAO_0000032 ;\n",
      "                    obo:OBI_0001938 [ a obo:OBI_0001931 ;\n",
      "                            obo:OBI_0001937 4.2e+01 ] ],\n",
      "                [ a obo:IAO_0000032 ;\n",
      "                    obo:OBI_0001938 [ a obo:OBI_0001931 ;\n",
      "                            obo:OBI_0001937 5.5e+01 ] ],\n",
      "                [ a obo:IAO_0000032 ;\n",
      "                    obo:OBI_0001938 [ a obo:OBI_0001931 ;\n",
      "                            obo:OBI_0001937 4e+01 ] ],\n",
      "                [ a obo:IAO_0000032 ;\n",
      "                    obo:OBI_0001938 [ a obo:OBI_0001931 ;\n",
      "                            obo:OBI_0001937 5e+01 ] ],\n",
      "                [ a obo:IAO_0000032 ;\n",
      "                    obo:OBI_0001938 [ a obo:OBI_0001931 ;\n",
      "                            obo:OBI_0001937 3.8e+01 ] ],\n",
      "                [ a obo:IAO_0000032 ;\n",
      "                    obo:OBI_0001938 [ a obo:OBI_0001931 ;\n",
      "                            obo:OBI_0001937 1.8e+01 ] ],\n",
      "                [ a obo:IAO_0000032 ;\n",
      "                    obo:OBI_0001938 [ a obo:OBI_0001931 ;\n",
      "                            obo:OBI_0001937 4.2e+01 ] ] ] ;\n",
      "    obo:OBI_0000299 [ a obo:OBI_0000175 ;\n",
      "            obo:OBI_0001938 [ a obo:OBI_0001931 ;\n",
      "                    obo:OBI_0001937 1.311125e-08 ] ] .\n",
      "\n",
      "obo:GO_0030350 rdfs:label \"iron-responsive element binding\" .\n",
      "\n",
      "obo:OBI_0000175 rdfs:label \"p-value\" .\n",
      "\n",
      "obo:OBI_0000751 rdfs:label \"study design dependent variable\" .\n",
      "\n",
      "obo:STATO_0000304 rdfs:label \"two sample t-test with unequal variance\" .\n",
      "\n",
      "obo:STATO_0000251 rdfs:label \"continuous variable\" .\n",
      "\n",
      "obo:IAO_0000032 rdfs:label \"scalar measurement datum\" .\n",
      "\n",
      "obo:OBI_0001931 rdfs:label \"scalar value specification\" .\n",
      "\n",
      "\n"
     ]
    }
   ],
   "source": [
    "print(g.serialize(format='turtle').decode('utf-8'))"
   ]
  },
  {
   "cell_type": "markdown",
   "metadata": {},
   "source": [
    "Given such a machine readable description, we can execute SPARQL queries. \n",
    "\n",
    "The following is for two sample t-tests with unequal variance with iron-responsive element binding as dependent variable and p-value < 0.005."
   ]
  },
  {
   "cell_type": "code",
   "execution_count": 6,
   "metadata": {},
   "outputs": [
    {
     "data": {
      "text/html": [
       "<div>\n",
       "<style scoped>\n",
       "    .dataframe tbody tr th:only-of-type {\n",
       "        vertical-align: middle;\n",
       "    }\n",
       "\n",
       "    .dataframe tbody tr th {\n",
       "        vertical-align: top;\n",
       "    }\n",
       "\n",
       "    .dataframe thead th {\n",
       "        text-align: right;\n",
       "    }\n",
       "</style>\n",
       "<table border=\"1\" class=\"dataframe\">\n",
       "  <thead>\n",
       "    <tr style=\"text-align: right;\">\n",
       "      <th></th>\n",
       "      <th>test</th>\n",
       "      <th>pvalue</th>\n",
       "    </tr>\n",
       "  </thead>\n",
       "  <tbody>\n",
       "    <tr>\n",
       "      <th>0</th>\n",
       "      <td>https://doi.org/10.1093/eurheartj/ehw333-R1</td>\n",
       "      <td>1.311125e-08</td>\n",
       "    </tr>\n",
       "  </tbody>\n",
       "</table>\n",
       "</div>"
      ],
      "text/plain": [
       "                                          test        pvalue\n",
       "0  https://doi.org/10.1093/eurheartj/ehw333-R1  1.311125e-08"
      ]
     },
     "metadata": {},
     "output_type": "display_data"
    }
   ],
   "source": [
    "display(query(g, \"\"\"\n",
    "PREFIX obo: <http://purl.obolibrary.org/obo/>\n",
    "SELECT ?test ?pvalue WHERE {\n",
    " ?test a obo:STATO_0000304 ;                        # a two sample t-test with unequal variance\n",
    "    obo:OBI_0000299 [                               # that has specified output\n",
    "        a obo:OBI_0000175 ;                         # a p-value\n",
    "        obo:OBI_0001938 [                           # that has value specification\n",
    "            a obo:OBI_0001931 ;                     # a scalar value specification\n",
    "            obo:OBI_0001937 ?pvalue                 # that has specified numeric value ?pvalue\n",
    "        ] \n",
    "    ] .\n",
    " ?test obo:OBI_0000293 [                            # and has specified input\n",
    "    a obo:OBI_0000751, obo:GO_0030350 ;             # a study design dependent variable, iron-responsive element binding\n",
    " ] . \n",
    " FILTER (?pvalue < 0.005)\n",
    "}\n",
    "\"\"\"))"
   ]
  },
  {
   "cell_type": "markdown",
   "metadata": {},
   "source": [
    "The following query extracts the data of the two variables, creates a data frame and plots the data."
   ]
  },
  {
   "cell_type": "code",
   "execution_count": 7,
   "metadata": {},
   "outputs": [
    {
     "data": {
      "text/plain": [
       "<matplotlib.axes._subplots.AxesSubplot at 0x7f069501b278>"
      ]
     },
     "execution_count": 7,
     "metadata": {},
     "output_type": "execute_result"
    },
    {
     "data": {
      "image/png": "[encoded data removed]",
      "text/plain": [
       "<Figure size 432x288 with 1 Axes>"
      ]
     },
     "metadata": {},
     "output_type": "display_data"
    }
   ],
   "source": [
    "%matplotlib inline\n",
    "\n",
    "df = query(g, \"\"\"\n",
    "PREFIX obo: <http://purl.obolibrary.org/obo/>\n",
    "PREFIX : <https://doi.org/10.1093/eurheartj/>\n",
    "SELECT ?variable ?value WHERE {\n",
    " :ehw333-R1 a obo:STATO_0000304 .           # the two sample t-test with unequal variance\n",
    " :ehw333-R1 obo:OBI_0000293 ?v .            # that has specified input\n",
    " ?v a obo:STATO_0000251 .                   # a continuous variable\n",
    " ?v rdfs:label ?variable .                  # with label\n",
    " ?v obo:BFO_0000051 [                       # that has part\n",
    "    a obo:IAO_0000032 ;                     # a scalar measurement datum\n",
    "    obo:OBI_0001938 [                       # that has value specification\n",
    "        a obo:OBI_0001931 ;                 # a scalar value specification\n",
    "        obo:OBI_0001937 ?value              # that has specified numeric value\n",
    "    ]\n",
    " ]\n",
    "}\n",
    "ORDER BY (?variable)\n",
    "\"\"\")\n",
    "\n",
    "df.pivot(columns='variable', values='value').plot.box()"
   ]
  },
  {
   "cell_type": "markdown",
   "metadata": {},
   "source": [
    "## Linking to Article Text\n",
    "\n",
    "We can now link the statistical hypothesis test description obtained in the data analysis phase of the research lifecycle with article text created during the scholarly communication phase of the research lifecycle. This allows us to extend the description with article (meta)data, such as author names and ORCID iDs or article DOI. Here we use [dokieli](https://dokie.li) and reproduce relevant article text with RDFa annotations. \n",
    "\n",
    "Take a look at the [RDFa annotated article](https://mstocker.solid.community/public/haddad17iron.html).\n",
    "\n",
    "First we read the annotations."
   ]
  },
  {
   "cell_type": "code",
   "execution_count": 8,
   "metadata": {},
   "outputs": [],
   "source": [
    "r = g.parse('https://mstocker.solid.community/public/haddad17iron.html', format='rdfa')"
   ]
  },
  {
   "cell_type": "markdown",
   "metadata": {},
   "source": [
    "We can now ask for articles that report highly significant results on some dependent variable."
   ]
  },
  {
   "cell_type": "code",
   "execution_count": 9,
   "metadata": {},
   "outputs": [
    {
     "data": {
      "text/html": [
       "<div>\n",
       "<style scoped>\n",
       "    .dataframe tbody tr th:only-of-type {\n",
       "        vertical-align: middle;\n",
       "    }\n",
       "\n",
       "    .dataframe tbody tr th {\n",
       "        vertical-align: top;\n",
       "    }\n",
       "\n",
       "    .dataframe thead th {\n",
       "        text-align: right;\n",
       "    }\n",
       "</style>\n",
       "<table border=\"1\" class=\"dataframe\">\n",
       "  <thead>\n",
       "    <tr style=\"text-align: right;\">\n",
       "      <th></th>\n",
       "      <th>title</th>\n",
       "      <th>doi</th>\n",
       "      <th>firstname</th>\n",
       "      <th>lastname</th>\n",
       "      <th>orcidId</th>\n",
       "      <th>variable</th>\n",
       "    </tr>\n",
       "  </thead>\n",
       "  <tbody>\n",
       "    <tr>\n",
       "      <th>0</th>\n",
       "      <td>Iron-regulatory proteins secure iron availabil...</td>\n",
       "      <td>https://doi.org/10.1093/eurheartj/ehw333</td>\n",
       "      <td>Fatemeh</td>\n",
       "      <td>Rostami</td>\n",
       "      <td>http://orcid.org/0000-0002-0992-6227</td>\n",
       "      <td>iron-responsive element binding</td>\n",
       "    </tr>\n",
       "  </tbody>\n",
       "</table>\n",
       "</div>"
      ],
      "text/plain": [
       "                                               title  \\\n",
       "0  Iron-regulatory proteins secure iron availabil...   \n",
       "\n",
       "                                        doi firstname lastname  \\\n",
       "0  https://doi.org/10.1093/eurheartj/ehw333   Fatemeh  Rostami   \n",
       "\n",
       "                                orcidId                         variable  \n",
       "0  http://orcid.org/0000-0002-0992-6227  iron-responsive element binding  "
      ]
     },
     "metadata": {},
     "output_type": "display_data"
    }
   ],
   "source": [
    "display(query(g, \"\"\"\n",
    "PREFIX obo: <http://purl.obolibrary.org/obo/>\n",
    "PREFIX bibo: <http://purl.org/ontology/bibo/>\n",
    "PREFIX dc: <http://purl.org/dc/terms/>\n",
    "PREFIX foaf: <http://xmlns.com/foaf/0.1/>\n",
    "PREFIX vivo: <http://vivoweb.org/ontology/core#>\n",
    "PREFIX orkg: <http://orkg.org/core#>\n",
    "SELECT ?title ?doi ?firstname ?lastname ?orcidId ?variable WHERE {\n",
    "  ?a a bibo:Article, orkg:ResearchContribution .  # articles\n",
    "  ?a dc:title ?title .                            # their title, DOI, and authors with ORCID iD\n",
    "  ?a bibo:doi ?doi .                              \n",
    "  ?a dc:creator [ foaf:givenname ?firstname; foaf:family_name ?lastname; vivo:orcidId ?orcidId ] .\n",
    "  ?a orkg:yields ?r .                             # that yield research results\n",
    "  ?r a orkg:ResearchResult, obo:STATO_0000304 .   # that are two sample t-test with unequal variance\n",
    "  ?r obo:OBI_0000299 [                            # that has specified output\n",
    "    a obo:OBI_0000175 ;                           # a p-value\n",
    "    obo:OBI_0001938 [                             # that has value specification\n",
    "      a obo:OBI_0001931 ;                         # a scalar value specification\n",
    "      obo:OBI_0001937 ?pvalue                     # that has specified numeric value ?pvalue\n",
    "    ]\n",
    "  ] . \n",
    "  ?r obo:OBI_0000293 [                            # and has specified input\n",
    "    a [ rdfs:label ?variable ] ;                  # a study design dependent variable\n",
    "  ] . \n",
    "  FILTER (?pvalue < 0.001                         # highly significant results\n",
    "    && ?variable != 'continuous variable'\n",
    "    && ?variable != 'study design dependent variable')\n",
    "}\n",
    "\"\"\"))"
   ]
  }
 ],
 "metadata": {
  "kernelspec": {
   "display_name": "Python 3",
   "language": "python",
   "name": "python3"
  },
  "language_info": {
   "codemirror_mode": {
    "name": "ipython",
    "version": 3
   },
   "file_extension": ".py",
   "mimetype": "text/x-python",
   "name": "python",
   "nbconvert_exporter": "python",
   "pygments_lexer": "ipython3",
   "version": "3.6.5"
  }
 },
 "nbformat": 4,
 "nbformat_minor": 2
}
