{
 "cells": [
  {
   "cell_type": "markdown",
   "metadata": {},
   "source": [
    "# Abstract\n",
    "\n",
    "This notebook is supplementary material to Stocker et al. \"Towards research infrastructures that curate scientific information: A use case in life sciences\" originally submitted to the [13th International Conference on Data Integration in the Life Sciences](https://events.tib.eu/dils2018/) (DILS 2018), November 20-21, Hannover, Germany.\n",
    "\n",
    "The notebook reproduces and proposes an alternative (and complementary) representation of a result published by [Haddad et al. (2017)](https://doi.org/10.1093/eurheartj/ehw333). Specifically, we reproduce the statistical hypothesis test underlying the statement \"IRE binding activity was significantly reduced in failing hearts\" using the data shown in Figure 1B (p. 364). \n",
    "\n",
    "In contrast to the conventional representation of a p-value, a plot and a natural language statement, we demonstrate how this results can be represented as a machine readable description for the statistical hypothesis test, specifically a two sample t-test with unequal variance with two continuous variables (and their corresponding values), the study design dependent variable, and the p-value."
   ]
  },
  {
   "cell_type": "code",
   "execution_count": null,
   "metadata": {},
   "outputs": [],
   "source": [
    "import io\n",
    "import re\n",
    "import requests\n",
    "import numpy as np\n",
    "import pandas as pd\n",
    "from  urllib.parse import quote\n",
    "from scipy.stats import ttest_ind\n",
    "from rdflib import Graph, URIRef, BNode, Literal\n",
    "from rdflib.namespace import RDF, XSD, RDFS\n",
    "from rdflib.plugins.sparql.results.csvresults import CSVResultSerializer"
   ]
  },
  {
   "cell_type": "code",
   "execution_count": null,
   "metadata": {},
   "outputs": [],
   "source": [
    "obo = dict()\n",
    "\n",
    "obo['STATO_0000304'] = URIRef('http://purl.obolibrary.org/obo/STATO_0000304')\n",
    "obo['OBI_0000299'] = URIRef('http://purl.obolibrary.org/obo/OBI_0000299')\n",
    "obo['OBI_0000175'] = URIRef('http://purl.obolibrary.org/obo/OBI_0000175')\n",
    "obo['OBI_0000293'] = URIRef('http://purl.obolibrary.org/obo/OBI_0000293')\n",
    "obo['STATO_0000251'] = URIRef('http://purl.obolibrary.org/obo/STATO_0000251')\n",
    "obo['BFO_0000051'] = URIRef('http://purl.obolibrary.org/obo/BFO_0000051')\n",
    "obo['IAO_0000032'] = URIRef('http://purl.obolibrary.org/obo/IAO_0000032')\n",
    "obo['OBI_0001938'] = URIRef('http://purl.obolibrary.org/obo/OBI_0001938')\n",
    "obo['OBI_0001933'] = URIRef('http://purl.obolibrary.org/obo/OBI_0001933')\n",
    "obo['OBI_0001931'] = URIRef('http://purl.obolibrary.org/obo/OBI_0001931')\n",
    "obo['OBI_0002135'] = URIRef('http://purl.obolibrary.org/obo/OBI_0002135')\n",
    "obo['OBI_0001937'] = URIRef('http://purl.obolibrary.org/obo/OBI_0001937')\n",
    "obo['OBI_0000751'] = URIRef('http://purl.obolibrary.org/obo/OBI_0000751')\n",
    "obo['STATO_0000205'] = URIRef('http://purl.obolibrary.org/obo/STATO_0000205')\n",
    "obo['STATO_0000019'] = URIRef('http://purl.obolibrary.org/obo/STATO_0000019')\n",
    "obo['STATO_0000129'] = URIRef('http://purl.obolibrary.org/obo/STATO_0000129')\n",
    "obo['GO_0030350'] = URIRef('http://purl.obolibrary.org/obo/GO_0030350')\n",
    "obo['NCIT_C50577'] = URIRef('http://purl.obolibrary.org/obo/NCIT_C50577')\n",
    "obo['NCIT_C25168'] = URIRef('http://purl.obolibrary.org/obo/NCIT_C25168')\n",
    "\n",
    "api = 'http://localhost:8000/api/'\n",
    "\n",
    "api_resources = '{}resources/'.format(api)\n",
    "api_predicates = '{}predicates/'.format(api)\n",
    "api_statements = '{}statements/'.format(api)\n",
    "\n",
    "def create_ttest_description(df, tt):\n",
    "    g = Graph()\n",
    "\n",
    "    g.bind('obo', 'http://purl.obolibrary.org/obo/')\n",
    "    g.bind('ex', 'http://example.org/')\n",
    "\n",
    "    n1 = URIRef('http://example.org/n1')\n",
    "    n2 = URIRef('http://example.org/n2')\n",
    "    n3 = URIRef('http://example.org/n3')\n",
    "    n4 = URIRef('http://example.org/n4')\n",
    "    n5 = URIRef('http://example.org/n5')\n",
    "    n6 = URIRef('http://example.org/n6')\n",
    "    \n",
    "    g.add((obo['STATO_0000304'], RDFS.label, Literal('two sample t-test with unequal variance')))\n",
    "    g.add((obo['OBI_0000299'], RDFS.label, Literal('has specified output')))\n",
    "    g.add((obo['OBI_0000293'], RDFS.label, Literal('has specified input')))\n",
    "    g.add((obo['OBI_0000175'], RDFS.label, Literal('p-value')))\n",
    "    g.add((obo['OBI_0001938'], RDFS.label, Literal('has value specification')))\n",
    "    g.add((obo['OBI_0001931'], RDFS.label, Literal('scalar value specification')))\n",
    "    g.add((obo['OBI_0001937'], RDFS.label, Literal('has specified numeric value')))\n",
    "    g.add((obo['OBI_0000751'], RDFS.label, Literal('study design dependent variable')))\n",
    "    g.add((obo['OBI_0001933'], RDFS.label, Literal('value specification')))\n",
    "    g.add((obo['OBI_0002135'], RDFS.label, Literal('has specified value')))\n",
    "    g.add((obo['GO_0030350'], RDFS.label, Literal('iron-responsive element binding')))\n",
    "    g.add((obo['STATO_0000251'], RDFS.label, Literal('continuous variable')))\n",
    "    g.add((obo['BFO_0000051'], RDFS.label, Literal('has part')))\n",
    "    g.add((obo['IAO_0000032'], RDFS.label, Literal('scalar measurement datum')))\n",
    "    g.add((obo['STATO_0000129'], RDFS.label, Literal('has value')))\n",
    "    g.add((obo['STATO_0000019'], RDFS.label, Literal('normal distribution hypothesis')))\n",
    "    g.add((obo['STATO_0000205'], RDFS.label, Literal('is denoted by')))\n",
    "    g.add((obo['NCIT_C50577'], RDFS.label, Literal('heart failure')))\n",
    "    g.add((obo['NCIT_C25168'], RDFS.label, Literal('tissue donor')))\n",
    "\n",
    "    g.add((n1, RDF.type, obo['STATO_0000304']))\n",
    "    g.add((n1, obo['OBI_0000299'], n2))\n",
    "    g.add((n2, RDF.type, obo['OBI_0000175']))\n",
    "    g.add((n2, obo['OBI_0001938'], n3))\n",
    "    g.add((n3, RDF.type, obo['OBI_0001931']))\n",
    "    g.add((n3, obo['OBI_0001937'], Literal(tt.pvalue, datatype=XSD.double)))\n",
    "    g.add((n1, obo['OBI_0000293'], n4))\n",
    "    g.add((n4, RDF.type, obo['OBI_0000751']))\n",
    "    g.add((n4, RDF.type, obo['GO_0030350']))\n",
    "    \n",
    "    for c in list(df):\n",
    "        b1 = BNode()\n",
    "        g.add((n1, obo['OBI_0000293'], b1))\n",
    "        g.add((b1, RDF.type, obo['STATO_0000251']))\n",
    "        for v in df[c]:\n",
    "            if np.isnan(v): \n",
    "                continue\n",
    "            b2 = BNode()\n",
    "            b3 = BNode()\n",
    "            g.add((b1, RDFS.label, Literal(c)))\n",
    "            g.add((b1, obo['BFO_0000051'], b2))\n",
    "            g.add((b2, RDF.type, obo['IAO_0000032']))\n",
    "            g.add((b2, obo['OBI_0001938'], b3))\n",
    "            g.add((b3, RDF.type, obo['OBI_0001931']))\n",
    "            g.add((b3, obo['OBI_0001937'], Literal(str(v), datatype=XSD.double)))\n",
    "\n",
    "    return g\n",
    "\n",
    "def query(g, q):\n",
    "    serializer = CSVResultSerializer(g.query(q))\n",
    "    output = io.BytesIO()\n",
    "    serializer.serialize(output)\n",
    "    return pd.read_csv(io.StringIO(output.getvalue().decode('utf-8')))\n",
    "\n",
    "def store(g):\n",
    "    for s, p, o in g:\n",
    "        store_statement(s, p, o)\n",
    "        \n",
    "def read():\n",
    "    g = Graph()\n",
    "    res = requests.get(api_statements)\n",
    "    json = res.json()\n",
    "    for stmt in json:\n",
    "        s = get_uri(get_label('{}{}'.format(api_resources, stmt['subject'])))\n",
    "        p = get_uri(get_label('{}{}'.format(api_predicates, stmt['predicate'])))\n",
    "        if stmt['object']['type'] == 'resource':\n",
    "            o = get_uri(get_label('{}{}'.format(api_resources, stmt['object']['id'])))\n",
    "        else:\n",
    "            v = stmt['object']['value']\n",
    "            try:\n",
    "                o = Literal(float(stmt['object']['value']), datatype=XSD.double)\n",
    "            except ValueError:\n",
    "                o = Literal(stmt['object']['value'])\n",
    "        if s == False or p == False or o == False:\n",
    "            continue\n",
    "        g.add((s, p, o))\n",
    "    return g\n",
    "    \n",
    "def store_statement(s, p, o):\n",
    "    s_id = get_id(api_resources, s)\n",
    "    p_id = get_id(api_predicates, p)\n",
    "    \n",
    "    if type(o) is Literal:\n",
    "        o_v = o.toPython()\n",
    "        res = requests.post('{}{}/{}'.format(api_statements, s_id, p_id), json={'value':o_v,'type':'literal'}, headers={'Content-Type':'application/json'})\n",
    "        return res.json()['statementId']\n",
    "    \n",
    "    o_id = get_id(api_resources, o)\n",
    "    \n",
    "    res = requests.post('{}{}/{}/{}'.format(api_statements, s_id, p_id, o_id), headers={'Content-Type':'application/json'})\n",
    "    return res.json()['statementId']\n",
    "    \n",
    "def get_id(api, r):\n",
    "    r = r.toPython()\n",
    "    res = requests.get(api, params={'q':r}, headers={'Content-Type':'application/json', 'Accept':'application/json'})\n",
    "    resj = res.json()\n",
    "    \n",
    "    if len(resj) == 0:\n",
    "        res = requests.post(api, json={'label':r}, headers={'Content-Type':'application/json'})\n",
    "        return res.json()['id']\n",
    "        \n",
    "    if len(resj) == 1:\n",
    "        return resj[0]['id']\n",
    "        \n",
    "    raise Exception('Lookup, expected only one result [{}]'.format(resj))\n",
    "    \n",
    "def get_label(api):\n",
    "    res = requests.get(api, headers={'Content-Type':'application/json', 'Accept':'application/json'})\n",
    "    return res.json()['label']\n",
    "\n",
    "def get_uri(s): \n",
    "    if s.startswith('http://'):\n",
    "        return URIRef(s)\n",
    "    if re.match('N([0-9][a-z])*', s):\n",
    "        return BNode(s)\n",
    "    return False"
   ]
  },
  {
   "cell_type": "markdown",
   "metadata": {},
   "source": [
    "## Statistical hypothesis test"
   ]
  },
  {
   "cell_type": "markdown",
   "metadata": {},
   "source": [
    "We first perform the statistical hypothesis test. This step is shared with the conventional approach, except that in practice researchers use [Prism](https://www.graphpad.com/scientific-software/prism/). We obtain the p-value."
   ]
  },
  {
   "cell_type": "code",
   "execution_count": null,
   "metadata": {},
   "outputs": [],
   "source": [
    "labels = ['non-failing heart (NF)', 'failing heart (F)']\n",
    "data = [(99, 52), (96, 40), (100, 38), (105, 18), \n",
    "        (np.nan, 11), (np.nan, 5), (np.nan, 42), \n",
    "        (np.nan, 55), (np.nan, 53), (np.nan, 39),\n",
    "        (np.nan, 42), (np.nan, 50)]\n",
    "\n",
    "df = pd.DataFrame.from_records(data, columns=labels)\n",
    "tt = ttest_ind(df['non-failing heart (NF)'], \n",
    "               df['failing heart (F)'], \n",
    "               equal_var=False, nan_policy='omit')\n",
    "\n",
    "tt.pvalue"
   ]
  },
  {
   "cell_type": "markdown",
   "metadata": {},
   "source": [
    "Here is where the proposed approach diverges from the conventional one. We suggest to use the [STATO](http://stato-ontology.org/) general purpose statistics ontology, the [Ontology for Biomedical Investigations](http://obi-ontology.org/) (OBI), the [Information Artifact Ontology](http://www.obofoundry.org/ontology/iao.html) (IAO), and the [Gene Ontology](http://www.geneontology.org/) (GO) (among others) to create a machine readable semantic description of the statistical hypothesis test."
   ]
  },
  {
   "cell_type": "code",
   "execution_count": null,
   "metadata": {},
   "outputs": [],
   "source": [
    "g = create_ttest_description(df, tt)"
   ]
  },
  {
   "cell_type": "markdown",
   "metadata": {},
   "source": [
    "We can look at the resulting RDF graph."
   ]
  },
  {
   "cell_type": "code",
   "execution_count": null,
   "metadata": {},
   "outputs": [],
   "source": [
    "print(g.serialize(format='turtle').decode('utf-8'))"
   ]
  },
  {
   "cell_type": "markdown",
   "metadata": {},
   "source": [
    "We can also store the graph. In our preliminary experiments, we are developing a graph database that builds on [Neo4j](https://neo4j.com/). This database has not been released at the time of publishing this notebook. Hence, it isn't possible for you to actually store the graph as implemented here. However, the code provides some useful details."
   ]
  },
  {
   "cell_type": "code",
   "execution_count": null,
   "metadata": {},
   "outputs": [],
   "source": [
    "# store(g)"
   ]
  },
  {
   "cell_type": "markdown",
   "metadata": {},
   "source": [
    "We can read RDF from the database. This code is here for reference."
   ]
  },
  {
   "cell_type": "code",
   "execution_count": null,
   "metadata": {},
   "outputs": [],
   "source": [
    "# g = read()"
   ]
  },
  {
   "cell_type": "markdown",
   "metadata": {},
   "source": [
    "Given RDF, we can execute SPARQL queries. The following query is for two sample t-tests with unequal variance with iron-responsive element binding as dependent variable and p-value < 0.005). The second query extracts the data of the two variables, creates a data frame and plots the data."
   ]
  },
  {
   "cell_type": "code",
   "execution_count": null,
   "metadata": {},
   "outputs": [],
   "source": [
    "display(query(g, \"\"\"\n",
    "PREFIX obo: <http://purl.obolibrary.org/obo/>\n",
    "SELECT ?test ?pvalue WHERE {\n",
    " ?test a obo:STATO_0000304 ;                        # a two sample t-test with unequal variance\n",
    "    obo:OBI_0000299 [                               # that has specified output\n",
    "        a obo:OBI_0000175 ;                         # a p-value\n",
    "        obo:OBI_0001938 [                           # that has value specification\n",
    "            a obo:OBI_0001931 ;                     # a scalar value specification\n",
    "            obo:OBI_0001937 ?pvalue                 # that has specified numeric value ?pvalue\n",
    "        ] \n",
    "    ] .\n",
    " ?test obo:OBI_0000293 [                            # and has specified input\n",
    "    a obo:OBI_0000751, obo:GO_0030350 ;             # a study design dependent variable, iron-responsive element binding\n",
    " ] . \n",
    " FILTER (?pvalue < 0.005)\n",
    "}\n",
    "\"\"\"))"
   ]
  },
  {
   "cell_type": "code",
   "execution_count": null,
   "metadata": {},
   "outputs": [],
   "source": [
    "%matplotlib inline\n",
    "\n",
    "df = query(g, \"\"\"\n",
    "PREFIX obo: <http://purl.obolibrary.org/obo/>\n",
    "PREFIX ex: <http://example.org/>\n",
    "SELECT ?variable ?value WHERE {\n",
    " ex:n1 a obo:STATO_0000304 .                # the two sample t-test with unequal variance\n",
    " ex:n1 obo:OBI_0000293 ?v .                 # that has specified input\n",
    " ?v a obo:STATO_0000251 .                   # a continuous variable\n",
    " ?v rdfs:label ?variable .                  # with label\n",
    " ?v obo:BFO_0000051 [                       # that has part\n",
    "    a obo:IAO_0000032 ;                     # a scalar measurement datum\n",
    "    obo:OBI_0001938 [                       # that has value specification\n",
    "        a obo:OBI_0001931 ;                 # a scalar value specification\n",
    "        obo:OBI_0001937 ?value              # that has specified numeric value\n",
    "    ]\n",
    " ]\n",
    "}\n",
    "ORDER BY (?variable)\n",
    "\"\"\")\n",
    "\n",
    "df.pivot(columns='variable', values='value').plot.box()"
   ]
  }
 ],
 "metadata": {
  "kernelspec": {
   "display_name": "Python 3",
   "language": "python",
   "name": "python3"
  },
  "language_info": {
   "codemirror_mode": {
    "name": "ipython",
    "version": 3
   },
   "file_extension": ".py",
   "mimetype": "text/x-python",
   "name": "python",
   "nbconvert_exporter": "python",
   "pygments_lexer": "ipython3",
   "version": "3.7.1"
  }
 },
 "nbformat": 4,
 "nbformat_minor": 2
}
